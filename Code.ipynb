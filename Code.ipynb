{
  "cells": [
    {
      "cell_type": "code",
      "execution_count": 8,
      "metadata": {
        "colab": {
          "base_uri": "https://localhost:8080/"
        },
        "id": "-gK28-M1TyRG",
        "outputId": "f94546c4-4ccc-4a64-ac37-363d0cffd927"
      },
      "outputs": [
        {
          "name": "stdout",
          "output_type": "stream",
          "text": [
            "Requirement already satisfied: flask_ngrok in c:\\users\\mgopa\\anaconda3\\lib\\site-packages (0.0.25)Note: you may need to restart the kernel to use updated packages.\n",
            "\n",
            "Requirement already satisfied: Flask>=0.8 in c:\\users\\mgopa\\anaconda3\\lib\\site-packages (from flask_ngrok) (1.1.2)\n",
            "Requirement already satisfied: requests in c:\\users\\mgopa\\anaconda3\\lib\\site-packages (from flask_ngrok) (2.27.1)\n",
            "Requirement already satisfied: click>=5.1 in c:\\users\\mgopa\\anaconda3\\lib\\site-packages (from Flask>=0.8->flask_ngrok) (8.0.4)\n",
            "Requirement already satisfied: itsdangerous>=0.24 in c:\\users\\mgopa\\anaconda3\\lib\\site-packages (from Flask>=0.8->flask_ngrok) (2.0.1)\n",
            "Requirement already satisfied: Werkzeug>=0.15 in c:\\users\\mgopa\\anaconda3\\lib\\site-packages (from Flask>=0.8->flask_ngrok) (2.0.3)\n",
            "Requirement already satisfied: Jinja2>=2.10.1 in c:\\users\\mgopa\\anaconda3\\lib\\site-packages (from Flask>=0.8->flask_ngrok) (2.11.3)\n",
            "Requirement already satisfied: idna<4,>=2.5 in c:\\users\\mgopa\\anaconda3\\lib\\site-packages (from requests->flask_ngrok) (3.3)\n",
            "Requirement already satisfied: urllib3<1.27,>=1.21.1 in c:\\users\\mgopa\\anaconda3\\lib\\site-packages (from requests->flask_ngrok) (1.26.9)\n",
            "Requirement already satisfied: charset-normalizer~=2.0.0 in c:\\users\\mgopa\\anaconda3\\lib\\site-packages (from requests->flask_ngrok) (2.0.4)\n",
            "Requirement already satisfied: certifi>=2017.4.17 in c:\\users\\mgopa\\anaconda3\\lib\\site-packages (from requests->flask_ngrok) (2021.10.8)\n",
            "Requirement already satisfied: colorama in c:\\users\\mgopa\\anaconda3\\lib\\site-packages (from click>=5.1->Flask>=0.8->flask_ngrok) (0.4.4)\n",
            "Requirement already satisfied: MarkupSafe>=0.23 in c:\\users\\mgopa\\anaconda3\\lib\\site-packages (from Jinja2>=2.10.1->Flask>=0.8->flask_ngrok) (2.0.1)\n"
          ]
        }
      ],
      "source": [
        "pip install flask_ngrok"
      ]
    },
    {
      "cell_type": "code",
      "execution_count": 9,
      "metadata": {
        "id": "yAH3FN99QULg"
      },
      "outputs": [],
      "source": [
        "#libraries\n",
        "import random\n",
        "import numpy as np\n",
        "import pickle\n",
        "import json\n",
        "from flask import Flask,render_template,request,redirect,url_for\n",
        "from flask_ngrok import run_with_ngrok\n",
        "import nltk\n",
        "from keras.models import load_model\n",
        "from nltk.stem import WordNetLemmatizer\n",
        "lemmatizer=WordNetLemmatizer()"
      ]
    },
    {
      "cell_type": "code",
      "execution_count": 10,
      "metadata": {
        "id": "mAht1Kcvf07a"
      },
      "outputs": [],
      "source": [
        "#chat initialization\n",
        "#/content/drive/MyDrive/Colab Notebooks/chatbot_mode.h5\n",
        "model=load_model(\"chatbot_mode.h5\")\n",
        "intents=json.loads(open(\"intents.json\").read())\n",
        "words=pickle.load(open(\"words.pkl\",\"rb\"))\n",
        "classes=pickle.load(open(\"classes.pkl\",\"rb\"))\n",
        "app=Flask(__name__)\n",
        "run_with_ngrok(app)\n",
        "\n",
        "@app.route(\"/\")\n",
        "def home():\n",
        "  return render_template(\"index.html\")\n",
        "\n",
        "@app.route(\"/get\",methods=[\"POST\"])\n",
        "def chatbot_response():\n",
        "  msg=request.form[\"msg\"]\n",
        "  if msg.startswith('my name is'):\n",
        "    name=msg[11:]\n",
        "    ints=predict_class(msg,model)\n",
        "    res1=getResponse(ints,intents)\n",
        "    res=res1.replace(\"{n}\",name)\n",
        "  elif msg.startswith('hi my name is'):\n",
        "    name=msg[14:]\n",
        "    ints=predict_class(msg,model)\n",
        "    res1=getResponse(ints,intents)\n",
        "    res=res1.replace(\"{n}\",name)\n",
        "  else:\n",
        "    ints=predict_class(msg,model)\n",
        "    res=getResponse(ints,intents)\n",
        "  return res\n"
      ]
    },
    {
      "cell_type": "code",
      "execution_count": 11,
      "metadata": {
        "id": "_P07q6FHVDSt"
      },
      "outputs": [],
      "source": [
        "#chat functionalities\n",
        "\n",
        "def clean_up_sentence(sentence):\n",
        "\n",
        "  sentence_words=nltk.word_tokenize(sentence)\n",
        "\n",
        "  sentence_words=[lemmatizer.lemmatize(word.lower()) for word in sentence_words]\n",
        "\n",
        "  return sentence_words"
      ]
    },
    {
      "cell_type": "code",
      "execution_count": 12,
      "metadata": {
        "colab": {
          "base_uri": "https://localhost:8080/"
        },
        "id": "BcAfU-SwYy63",
        "outputId": "144ce34f-6b95-48be-99fd-aef0d5498fbc"
      },
      "outputs": [
        {
          "name": "stdout",
          "output_type": "stream",
          "text": [
            " * Serving Flask app \"__main__\" (lazy loading)\n",
            " * Environment: production\n",
            "\u001b[31m   WARNING: This is a development server. Do not use it in a production deployment.\u001b[0m\n",
            "\u001b[2m   Use a production WSGI server instead.\u001b[0m\n",
            " * Debug mode: off\n"
          ]
        },
        {
          "name": "stderr",
          "output_type": "stream",
          "text": [
            " * Running on http://127.0.0.1:5000/ (Press CTRL+C to quit)\n"
          ]
        },
        {
          "name": "stdout",
          "output_type": "stream",
          "text": [
            " * Running on http://8473-125-62-214-250.ngrok.io\n",
            " * Traffic stats available on http://127.0.0.1:4040\n"
          ]
        },
        {
          "name": "stderr",
          "output_type": "stream",
          "text": [
            "[2022-11-22 23:12:00,206] ERROR in app: Exception on / [GET]\n",
            "Traceback (most recent call last):\n",
            "  File \"c:\\Users\\mgopa\\anaconda3\\lib\\site-packages\\flask\\app.py\", line 2447, in wsgi_app\n",
            "    response = self.full_dispatch_request()\n",
            "  File \"c:\\Users\\mgopa\\anaconda3\\lib\\site-packages\\flask\\app.py\", line 1952, in full_dispatch_request\n",
            "    rv = self.handle_user_exception(e)\n",
            "  File \"c:\\Users\\mgopa\\anaconda3\\lib\\site-packages\\flask\\app.py\", line 1821, in handle_user_exception\n",
            "    reraise(exc_type, exc_value, tb)\n",
            "  File \"c:\\Users\\mgopa\\anaconda3\\lib\\site-packages\\flask\\_compat.py\", line 39, in reraise\n",
            "    raise value\n",
            "  File \"c:\\Users\\mgopa\\anaconda3\\lib\\site-packages\\flask\\app.py\", line 1950, in full_dispatch_request\n",
            "    rv = self.dispatch_request()\n",
            "  File \"c:\\Users\\mgopa\\anaconda3\\lib\\site-packages\\flask\\app.py\", line 1936, in dispatch_request\n",
            "    return self.view_functions[rule.endpoint](**req.view_args)\n",
            "  File \"C:\\Users\\mgopa\\AppData\\Local\\Temp\\ipykernel_19932\\1666561757.py\", line 12, in home\n",
            "    return render_template(\"index.html\")\n",
            "  File \"c:\\Users\\mgopa\\anaconda3\\lib\\site-packages\\flask\\templating.py\", line 138, in render_template\n",
            "    ctx.app.jinja_env.get_or_select_template(template_name_or_list),\n",
            "  File \"c:\\Users\\mgopa\\anaconda3\\lib\\site-packages\\jinja2\\environment.py\", line 930, in get_or_select_template\n",
            "    return self.get_template(template_name_or_list, parent, globals)\n",
            "  File \"c:\\Users\\mgopa\\anaconda3\\lib\\site-packages\\jinja2\\environment.py\", line 883, in get_template\n",
            "    return self._load_template(name, self.make_globals(globals))\n",
            "  File \"c:\\Users\\mgopa\\anaconda3\\lib\\site-packages\\jinja2\\environment.py\", line 857, in _load_template\n",
            "    template = self.loader.load(self, name, globals)\n",
            "  File \"c:\\Users\\mgopa\\anaconda3\\lib\\site-packages\\jinja2\\loaders.py\", line 115, in load\n",
            "    source, filename, uptodate = self.get_source(environment, name)\n",
            "  File \"c:\\Users\\mgopa\\anaconda3\\lib\\site-packages\\flask\\templating.py\", line 60, in get_source\n",
            "    return self._get_source_fast(environment, template)\n",
            "  File \"c:\\Users\\mgopa\\anaconda3\\lib\\site-packages\\flask\\templating.py\", line 89, in _get_source_fast\n",
            "    raise TemplateNotFound(template)\n",
            "jinja2.exceptions.TemplateNotFound: index.html\n",
            "127.0.0.1 - - [22/Nov/2022 23:12:00] \"GET / HTTP/1.1\" 500 -\n",
            "127.0.0.1 - - [22/Nov/2022 23:12:00] \"GET /favicon.ico HTTP/1.1\" 404 -\n",
            "127.0.0.1 - - [22/Nov/2022 23:13:04] \"GET / HTTP/1.1\" 200 -\n",
            "127.0.0.1 - - [22/Nov/2022 23:13:04] \"GET /style.css HTTP/1.1\" 404 -\n",
            "127.0.0.1 - - [22/Nov/2022 23:13:20] \"GET /?msg=hii HTTP/1.1\" 200 -\n",
            "127.0.0.1 - - [22/Nov/2022 23:13:20] \"GET /style.css HTTP/1.1\" 404 -\n"
          ]
        }
      ],
      "source": [
        "#return bag of words array: 0 or 1 for each word in the bag that exists in the sentence\n",
        "\n",
        "def bow(sentence, words, show_details=True):\n",
        "\n",
        "  #tokenize the pattern\n",
        "\n",
        "  sentence_words=clean_up_sentence(sentence)\n",
        "\n",
        "  #bag of words - matrix of N words, vocabulary matrix\n",
        "\n",
        "  bag =[0]*len(words)\n",
        "\n",
        "  for s in sentence_words:\n",
        "    for i, w in enumerate(words):\n",
        "        if w==s:\n",
        "          # assign I if current word is in the vocabulary position\n",
        "          bag[i]=1\n",
        "          if show_details:\n",
        "            print(\"found in bag: %s\" % w)\n",
        "  return np.array(bag)\n",
        "\n",
        "def predict_class(sentence, model):\n",
        "  #filter out predictions below a threshold\n",
        "  p=bow(sentence, words, show_details=False)\n",
        "  res=model.predict(np.array([p]))[0]\n",
        "  ERROR_THRESHOLD = 0.25\n",
        "  results=[[i, r] for i, r in enumerate(res) if r> ERROR_THRESHOLD]\n",
        "  #sort by strength of probability\n",
        "  results.sort(key=lambda x: x[1], reverse=True)\n",
        "  return_list = []\n",
        "  for r in results:\n",
        "    return_list.append({\"intent\":classes[r[0]],\"probability\":str(r[1])})\n",
        "  return return_list\n",
        "\n",
        "def getResponse(ints, intents_json):\n",
        "  tag=ints[0][\"intent\"]\n",
        "  list_of_intents = intents_json[\"intents\"]\n",
        "  for i in list_of_intents:\n",
        "    if i[\"tag\"]==tag:\n",
        "      result = random.choice(i[\"responses\"])\n",
        "      break\n",
        "      return result\n",
        "if __name__==\"__main__\":\n",
        "  app.run()"
      ]
    }
  ],
  "metadata": {
    "colab": {
      "provenance": []
    },
    "kernelspec": {
      "display_name": "base",
      "language": "python",
      "name": "python3"
    },
    "language_info": {
      "codemirror_mode": {
        "name": "ipython",
        "version": 3
      },
      "file_extension": ".py",
      "mimetype": "text/x-python",
      "name": "python",
      "nbconvert_exporter": "python",
      "pygments_lexer": "ipython3",
      "version": "3.9.12"
    },
    "vscode": {
      "interpreter": {
        "hash": "521ecf9e853da0e62888909dcd37ac9ddd9b7a4e5c84c77af99f079ad4f7ea0e"
      }
    }
  },
  "nbformat": 4,
  "nbformat_minor": 0
}
